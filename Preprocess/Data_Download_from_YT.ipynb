{
 "cells": [
  {
   "cell_type": "code",
   "metadata": {},
   "outputs": [],
   "source": [
    "import os, re, sys\n",
    "import unicodedata\n",
    "import subprocess\n",
    "import pytube\n",
    "import os\n",
   ]
  },
  {
   "cell_type": "code",
   "metadata": {},
   "outputs": [],
   "source": [
    "def DownloadYoutube(url):\n",
    "    download_dir = \"./PHS_video\"\n",
    "    try:\n",
    "        if not os.path.isdir(download_dir):\n",
    "            os.mkdir(download_dir)\n",
    "\n",
    "        yt=pytube.YouTube(url)\n",
    "        vids=yt.streams.all()\n",
    "\n",
    "        parent_dir=download_dir\n",
    "        vids[0].download(parent_dir)\n",
    "\n",
    "        new_filename=re.findall(\"watch\\?v=(\\S+)\", url)[0]+\".mp4\"\n",
    "        default_filename=vids[0].default_filename\n",
    "        try:\n",
    "            os.rename(os.path.join(parent_dir, default_filename), os.path.join(parent_dir, new_filename))\n",
    "        except FileExistsError as e:\n",
    "            print(new_filename, \"파일이 존재합니다.\")\n",
    "            os.remove(os.path.join(parent_dir, default_filename))\n",
    "    except Exception as e:\n",
    "        print(e)\n"
   ]
  },
  {
   "cell_type": "code",
   "metadata": {},
   "outputs": [],
   "source": [
    "try:\n",
    "    with open(\"urlList_PHS.txt\", \"r\") as f:\n",
    "        urls=f.readlines()\n",
    "\n",
    "    for url in urls:\n",
    "        DownloadYoutube(url)\n",
    "except Exception as e:\n",
    "    print(e)"
   ]
  },
  {
   "cell_type": "code",
   "metadata": {},
   "outputs": [],
   "source": [
    "import os, sys\n",
    "from moviepy.editor import *"
   ]
  },
  {
   "cell_type": "code",
   "metadata": {},
   "outputs": [],
   "source": [
    "video_dir = '/home/ncp/workspace/All_Preprocess/PHS_video'\n",
    "wav_dir = '/home/ncp/workspace/All_Preprocess/PHS_data'"
   ]
  },
  {
   "cell_type": "code",
   "metadata": {},
   "outputs": [],
   "source": [
    "#os.mkdir(wav_dir)\n",
    "\n",
    "files = list(filter(lambda x: os.path.splitext(x)[1] == \".mp4\", os.listdir(video_dir)))"
   ]
  },
  {
   "cell_type": "code",
   "metadata": {
    "collapsed": true
   },
   "outputs": [
    {
     "name": "stdout",
     "output_type": "stream",
     "text": [
      "_zACmD7uVRA.mp4\n",
      "\n",
      "\n",
      "path: .\\/home/ncp/workspace/data_download_from_YT/PHS_video/_zACmD7uVRA.mp4\n",
      "[MoviePy] Writing audio in /home/ncp/workspace/data_download_from_YT/PHS_data/_zACmD7uVRA.wav\n"
     ]
    },
    {
     "name": "stderr",
     "output_type": "stream",
     "text": [
      "100%|██████████| 6544/6544 [00:02<00:00, 2934.43it/s]"
     ]
    },
    {
     "name": "stdout",
     "output_type": "stream",
     "text": [
      "[MoviePy] Done.\n"
     ]
    },
    {
     "name": "stderr",
     "output_type": "stream",
     "text": [
      "\n"
     ]
    },
    {
     "name": "stdout",
     "output_type": "stream",
     "text": [
      "xmfu-ihjYyc.mp4\n",
      "\n",
      "\n",
      "path: .\\/home/ncp/workspace/data_download_from_YT/PHS_video/xmfu-ihjYyc.mp4\n",
      "[MoviePy] Writing audio in /home/ncp/workspace/data_download_from_YT/PHS_data/xmfu-ihjYyc.wav\n"
     ]
    },
    {
     "name": "stderr",
     "output_type": "stream",
     "text": [
      "100%|██████████| 5349/5349 [00:01<00:00, 3347.48it/s]"
     ]
    },
    {
     "name": "stdout",
     "output_type": "stream",
     "text": [
      "[MoviePy] Done.\n"
     ]
    },
    {
     "name": "stderr",
     "output_type": "stream",
     "text": [
      "\n"
     ]
    },
    {
     "name": "stdout",
     "output_type": "stream",
     "text": [
      "qFxlZ7gR7cs.mp4\n",
      "\n",
      "\n",
      "path: .\\/home/ncp/workspace/data_download_from_YT/PHS_video/qFxlZ7gR7cs.mp4\n",
      "[MoviePy] Writing audio in /home/ncp/workspace/data_download_from_YT/PHS_data/qFxlZ7gR7cs.wav\n"
     ]
    },
    {
     "name": "stderr",
     "output_type": "stream",
     "text": [
      "100%|██████████| 6387/6387 [00:01<00:00, 3367.47it/s]"
     ]
    },
    {
     "name": "stdout",
     "output_type": "stream",
     "text": [
      "[MoviePy] Done.\n"
     ]
    },
    {
     "name": "stderr",
     "output_type": "stream",
     "text": [
      "\n"
     ]
    },
    {
     "name": "stdout",
     "output_type": "stream",
     "text": [
      "C6if_eRR8RE.mp4\n",
      "\n",
      "\n",
      "path: .\\/home/ncp/workspace/data_download_from_YT/PHS_video/C6if_eRR8RE.mp4\n",
      "[MoviePy] Writing audio in /home/ncp/workspace/data_download_from_YT/PHS_data/C6if_eRR8RE.wav\n"
     ]
    },
    {
     "name": "stderr",
     "output_type": "stream",
     "text": [
      "100%|██████████| 6862/6862 [00:02<00:00, 3338.08it/s]"
     ]
    },
    {
     "name": "stdout",
     "output_type": "stream",
     "text": [
      "[MoviePy] Done.\n"
     ]
    },
    {
     "name": "stderr",
     "output_type": "stream",
     "text": [
      "\n"
     ]
    },
    {
     "name": "stdout",
     "output_type": "stream",
     "text": [
      "8cRj0AggsUU.mp4\n",
      "\n",
      "\n",
      "path: .\\/home/ncp/workspace/data_download_from_YT/PHS_video/8cRj0AggsUU.mp4\n",
      "[MoviePy] Writing audio in /home/ncp/workspace/data_download_from_YT/PHS_data/8cRj0AggsUU.wav\n"
     ]
    },
    {
     "name": "stderr",
     "output_type": "stream",
     "text": [
      "100%|██████████| 5174/5174 [00:01<00:00, 3048.02it/s]"
     ]
    },
    {
     "name": "stdout",
     "output_type": "stream",
     "text": [
      "[MoviePy] Done.\n"
     ]
    },
    {
     "name": "stderr",
     "output_type": "stream",
     "text": [
      "\n"
     ]
    },
    {
     "name": "stdout",
     "output_type": "stream",
     "text": [
      "U82c-HnVE9E.mp4\n",
      "\n",
      "\n",
      "path: .\\/home/ncp/workspace/data_download_from_YT/PHS_video/U82c-HnVE9E.mp4\n",
      "[MoviePy] Writing audio in /home/ncp/workspace/data_download_from_YT/PHS_data/U82c-HnVE9E.wav\n"
     ]
    },
    {
     "name": "stderr",
     "output_type": "stream",
     "text": [
      "100%|██████████| 5694/5694 [00:01<00:00, 3367.26it/s]"
     ]
    },
    {
     "name": "stdout",
     "output_type": "stream",
     "text": [
      "[MoviePy] Done.\n"
     ]
    },
    {
     "name": "stderr",
     "output_type": "stream",
     "text": [
      "\n"
     ]
    },
    {
     "name": "stdout",
     "output_type": "stream",
     "text": [
      "SzCa4IZ2Ab0.mp4\n",
      "\n",
      "\n",
      "path: .\\/home/ncp/workspace/data_download_from_YT/PHS_video/SzCa4IZ2Ab0.mp4\n",
      "[MoviePy] Writing audio in /home/ncp/workspace/data_download_from_YT/PHS_data/SzCa4IZ2Ab0.wav\n"
     ]
    },
    {
     "name": "stderr",
     "output_type": "stream",
     "text": [
      "100%|██████████| 5508/5508 [00:01<00:00, 3162.51it/s]"
     ]
    },
    {
     "name": "stdout",
     "output_type": "stream",
     "text": [
      "[MoviePy] Done.\n",
      "QhsVimBs5ZY.mp4\n",
      "\n",
      "\n",
      "path: .\\/home/ncp/workspace/data_download_from_YT/PHS_video/QhsVimBs5ZY.mp4\n",
      "[MoviePy] Writing audio in /home/ncp/workspace/data_download_from_YT/PHS_data/QhsVimBs5ZY.wav\n"
     ]
    },
    {
     "name": "stderr",
     "output_type": "stream",
     "text": [
      "\n",
      "100%|██████████| 6174/6174 [00:01<00:00, 3306.70it/s]"
     ]
    },
    {
     "name": "stdout",
     "output_type": "stream",
     "text": [
      "[MoviePy] Done.\n"
     ]
    },
    {
     "name": "stderr",
     "output_type": "stream",
     "text": [
      "\n"
     ]
    },
    {
     "name": "stdout",
     "output_type": "stream",
     "text": [
      "sr3JaQ3h7YA.mp4\n",
      "\n",
      "\n",
      "path: .\\/home/ncp/workspace/data_download_from_YT/PHS_video/sr3JaQ3h7YA.mp4\n",
      "[MoviePy] Writing audio in /home/ncp/workspace/data_download_from_YT/PHS_data/sr3JaQ3h7YA.wav\n"
     ]
    },
    {
     "name": "stderr",
     "output_type": "stream",
     "text": [
      "100%|██████████| 7550/7550 [00:02<00:00, 3165.28it/s]"
     ]
    },
    {
     "name": "stdout",
     "output_type": "stream",
     "text": [
      "[MoviePy] Done.\n"
     ]
    },
    {
     "name": "stderr",
     "output_type": "stream",
     "text": [
      "\n"
     ]
    },
    {
     "name": "stdout",
     "output_type": "stream",
     "text": [
      "otS3whK9baA.mp4\n",
      "\n",
      "\n",
      "path: .\\/home/ncp/workspace/data_download_from_YT/PHS_video/otS3whK9baA.mp4\n",
      "[MoviePy] Writing audio in /home/ncp/workspace/data_download_from_YT/PHS_data/otS3whK9baA.wav\n"
     ]
    },
    {
     "name": "stderr",
     "output_type": "stream",
     "text": [
      "100%|██████████| 5050/5050 [00:01<00:00, 3297.58it/s]"
     ]
    },
    {
     "name": "stdout",
     "output_type": "stream",
     "text": [
      "[MoviePy] Done.\n"
     ]
    },
    {
     "name": "stderr",
     "output_type": "stream",
     "text": [
      "\n"
     ]
    },
    {
     "name": "stdout",
     "output_type": "stream",
     "text": [
      "wYsNiLvQ__8.mp4\n",
      "\n",
      "\n",
      "path: .\\/home/ncp/workspace/data_download_from_YT/PHS_video/wYsNiLvQ__8.mp4\n",
      "[MoviePy] Writing audio in /home/ncp/workspace/data_download_from_YT/PHS_data/wYsNiLvQ__8.wav\n"
     ]
    },
    {
     "name": "stderr",
     "output_type": "stream",
     "text": [
      "100%|██████████| 5212/5212 [00:01<00:00, 3207.17it/s]"
     ]
    },
    {
     "name": "stdout",
     "output_type": "stream",
     "text": [
      "[MoviePy] Done.\n",
      "nj2_7-tp01I.mp4\n",
      "\n",
      "\n",
      "path: .\\/home/ncp/workspace/data_download_from_YT/PHS_video/nj2_7-tp01I.mp4\n",
      "[MoviePy] Writing audio in /home/ncp/workspace/data_download_from_YT/PHS_data/nj2_7-tp01I.wav\n"
     ]
    },
    {
     "name": "stderr",
     "output_type": "stream",
     "text": [
      "\n",
      "100%|██████████| 5102/5102 [00:01<00:00, 3002.41it/s]"
     ]
    },
    {
     "name": "stdout",
     "output_type": "stream",
     "text": [
      "[MoviePy] Done.\n"
     ]
    },
    {
     "name": "stderr",
     "output_type": "stream",
     "text": [
      "\n"
     ]
    },
    {
     "name": "stdout",
     "output_type": "stream",
     "text": [
      "OxgiiyLp5pk.mp4\n",
      "\n",
      "\n",
      "path: .\\/home/ncp/workspace/data_download_from_YT/PHS_video/OxgiiyLp5pk.mp4\n",
      "[MoviePy] Writing audio in /home/ncp/workspace/data_download_from_YT/PHS_data/OxgiiyLp5pk.wav\n"
     ]
    },
    {
     "name": "stderr",
     "output_type": "stream",
     "text": [
      "100%|██████████| 7487/7487 [00:02<00:00, 3581.18it/s]"
     ]
    },
    {
     "name": "stdout",
     "output_type": "stream",
     "text": [
      "[MoviePy] Done.\n"
     ]
    },
    {
     "name": "stderr",
     "output_type": "stream",
     "text": [
      "\n"
     ]
    },
    {
     "name": "stdout",
     "output_type": "stream",
     "text": [
      "hTTpJzNeu8Y.mp4\n",
      "\n",
      "\n",
      "path: .\\/home/ncp/workspace/data_download_from_YT/PHS_video/hTTpJzNeu8Y.mp4\n",
      "[MoviePy] Writing audio in /home/ncp/workspace/data_download_from_YT/PHS_data/hTTpJzNeu8Y.wav\n"
     ]
    },
    {
     "name": "stderr",
     "output_type": "stream",
     "text": [
      "100%|██████████| 6102/6102 [00:01<00:00, 3312.52it/s]"
     ]
    },
    {
     "name": "stdout",
     "output_type": "stream",
     "text": [
      "[MoviePy] Done.\n"
     ]
    },
    {
     "name": "stderr",
     "output_type": "stream",
     "text": [
      "\n"
     ]
    },
    {
     "name": "stdout",
     "output_type": "stream",
     "text": [
      "bGctVt-LX3I.mp4\n",
      "\n",
      "\n",
      "path: .\\/home/ncp/workspace/data_download_from_YT/PHS_video/bGctVt-LX3I.mp4\n",
      "[MoviePy] Writing audio in /home/ncp/workspace/data_download_from_YT/PHS_data/bGctVt-LX3I.wav\n"
     ]
    },
    {
     "name": "stderr",
     "output_type": "stream",
     "text": [
      "100%|██████████| 5605/5605 [00:01<00:00, 3281.45it/s]"
     ]
    },
    {
     "name": "stdout",
     "output_type": "stream",
     "text": [
      "[MoviePy] Done.\n"
     ]
    },
    {
     "name": "stderr",
     "output_type": "stream",
     "text": [
      "\n"
     ]
    },
    {
     "name": "stdout",
     "output_type": "stream",
     "text": [
      "NBRbP_5OyYg.mp4\n",
      "\n",
      "\n",
      "path: .\\/home/ncp/workspace/data_download_from_YT/PHS_video/NBRbP_5OyYg.mp4\n",
      "[MoviePy] Writing audio in /home/ncp/workspace/data_download_from_YT/PHS_data/NBRbP_5OyYg.wav\n"
     ]
    },
    {
     "name": "stderr",
     "output_type": "stream",
     "text": [
      "100%|██████████| 7266/7266 [00:02<00:00, 3428.62it/s]"
     ]
    },
    {
     "name": "stdout",
     "output_type": "stream",
     "text": [
      "[MoviePy] Done.\n"
     ]
    },
    {
     "name": "stderr",
     "output_type": "stream",
     "text": [
      "\n"
     ]
    }
   ],
   "source": [
    "for filename in files:\n",
    "    print(filename + \"\\n\")\n",
    "    try:\n",
    "        video_clip = VideoFileClip(video_dir+'/'+filename)\n",
    "        audio_clip = video_clip.audio\n",
    "        print(\"\\npath:\", \".\\\\\" + os.path.join(video_dir, filename))\n",
    "        audio_clip.write_audiofile(wav_dir+'/' + os.path.splitext(filename)[0] + \".wav\")\n",
    "        audio_clip.close()\n",
    "    except Exception as e:\n",
    "        print(filename, e)\n"
   ]
  },
  {
   "cell_type": "code",
   "execution_count": null,
   "metadata": {},
   "outputs": [],
   "source": []
  }
 ],
 "metadata": {
  "kernelspec": {
   "display_name": "Python 3",
   "language": "python",
   "name": "python3"
  },
  "language_info": {
   "codemirror_mode": {
    "name": "ipython",
    "version": 3
   },
   "file_extension": ".py",
   "mimetype": "text/x-python",
   "name": "python",
   "nbconvert_exporter": "python",
   "pygments_lexer": "ipython3",
   "version": "3.6.5"
  }
 },
 "nbformat": 4,
 "nbformat_minor": 2
}
