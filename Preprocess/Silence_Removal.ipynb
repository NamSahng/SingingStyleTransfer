{
 "cells": [
  {
   "cell_type": "code",
   "execution_count": 6,
   "metadata": {},
   "outputs": [],
   "source": [
    "\n",
    "from pydub import AudioSegment\n",
    "from pydub.silence import split_on_silence\n",
    "from pydub.playback import play\n",
    "import IPython.display as ipd\n",
    "import os"
   ]
  },
  {
   "cell_type": "code",
   "execution_count": 60,
   "metadata": {},
   "outputs": [],
   "source": [
    "BS_data_dir = \"/home/ncp/workspace/All_Preprocess/BS_sep/vocal\"\n",
    "PHS_data_dir = \"/home/ncp/workspace/All_Preprocess/PHS_sep/vocal\"\n",
    "SRM_BS_dir = \"/home/ncp/workspace/All_Preprocess/SRM_BS\"\n",
    "SRM_PHS_dir = \"/home/ncp/workspace/All_Preprocess/SRM_PHS\"\n",
    "if not os.path.isdir(SRM_BS_dir):\n",
    "    os.mkdir(SRM_BS_dir)\n",
    "if not os.path.isdir(SRM_PHS_dir):\n",
    "    os.mkdir(SRM_PHS_dir)"
   ]
  },
  {
   "cell_type": "code",
   "execution_count": 7,
   "metadata": {},
   "outputs": [],
   "source": [
    "files = list(filter(lambda x: os.path.splitext(x)[1] == \".wav\", os.listdir(BS_data_dir)))"
   ]
  },
  {
   "cell_type": "code",
   "execution_count": 62,
   "metadata": {},
   "outputs": [],
   "source": [
    "for file in files:\n",
    "    sound = AudioSegment.from_wav(BS_data_dir+\"/\"+file)\n",
    "    chunks = split_on_silence(sound, \n",
    "    min_silence_len=500,\n",
    "    silence_thresh=-50,\n",
    "    keep_silence=200,\n",
    "    )\n",
    "    for i, chunk in enumerate(chunks):\n",
    "        chunk.export(\"/home/ncp/workspace/All_Preprocess/SRM_BS/chunk{0}_\".format(i)+file, format=\"wav\")"
   ]
  },
  {
   "cell_type": "code",
   "execution_count": 63,
   "metadata": {},
   "outputs": [],
   "source": [
    "files = list(filter(lambda x: os.path.splitext(x)[1] == \".wav\", os.listdir(PHS_data_dir)))"
   ]
  },
  {
   "cell_type": "code",
   "execution_count": 64,
   "metadata": {},
   "outputs": [
    {
     "name": "stdout",
     "output_type": "stream",
     "text": [
      "136\n"
     ]
    }
   ],
   "source": [
    "print(len(files))"
   ]
  },
  {
   "cell_type": "code",
   "execution_count": 66,
   "metadata": {},
   "outputs": [],
   "source": [
    "for file in files:\n",
    "    sound = AudioSegment.from_wav(PHS_data_dir+\"/\"+file)\n",
    "    chunks = split_on_silence(sound, \n",
    "    min_silence_len=500,\n",
    "    silence_thresh=-50,\n",
    "    keep_silence=200,\n",
    "    )\n",
    "    for i, chunk in enumerate(chunks):\n",
    "        chunk.export(SRM_PHS_dir+\"/chunk{0}_\".format(i)+file, format=\"wav\")"
   ]
  }
 ],
 "metadata": {
  "kernelspec": {
   "display_name": "Python 3",
   "language": "python",
   "name": "python3"
  },
  "language_info": {
   "codemirror_mode": {
    "name": "ipython",
    "version": 3
   },
   "file_extension": ".py",
   "mimetype": "text/x-python",
   "name": "python",
   "nbconvert_exporter": "python",
   "pygments_lexer": "ipython3",
   "version": "3.6.5"
  }
 },
 "nbformat": 4,
 "nbformat_minor": 2
}
