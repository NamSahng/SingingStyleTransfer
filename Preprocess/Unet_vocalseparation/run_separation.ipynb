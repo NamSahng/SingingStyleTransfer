{
 "cells": [
  {
   "cell_type": "code",
   "execution_count": 6,
   "metadata": {},
   "outputs": [],
   "source": [
    "import util\n",
    "import os"
   ]
  },
  {
   "cell_type": "code",
   "execution_count": 7,
   "metadata": {},
   "outputs": [],
   "source": [
    "data_dir = '/home/ncp/workspace/All_Preprocess/PHS_data'\n",
    "files = list(filter(lambda x: os.path.splitext(x)[1] == \".wav\", os.listdir(data_dir)))"
   ]
  },
  {
   "cell_type": "code",
   "execution_count": 35,
   "metadata": {},
   "outputs": [],
   "source": [
    "vocal_dir = \"../PHS_sep/vocal\"\n",
    "inst_dir = \"../PHS_sep/inst\"\n",
    "if not os.path.isdir(vocal_dir):\n",
    "    os.mkdir(vocal_dir)\n",
    "if not os.path.isdir(inst_dir):\n",
    "    os.mkdir(inst_dir)"
   ]
  },
  {
   "cell_type": "code",
   "execution_count": 46,
   "metadata": {
    "scrolled": false
   },
   "outputs": [
    {
     "name": "stdout",
     "output_type": "stream",
     "text": [
      "hTTpJzNeu8Y.wav__seg9\n",
      "\n",
      "Invalid operation is performed in: Concat (Forward)\n",
      "\n",
      "Expect: in_types[0].shape[3] == in_types[1].shape[3]\n",
      "Actual: 28 != 29\n"
     ]
    }
   ],
   "source": [
    "for file in files:\n",
    "    mag, phase = util.LoadAudio(data_dir+\"/\"+file)\n",
    "    song_len = len(mag[0])\n",
    "    sep_len = 960 # about 30 sec\n",
    "    seg = song_len // sep_len\n",
    "    start = int((song_len % sep_len)/2)\n",
    "    for i in range (seg):\n",
    "        try:\n",
    "            mask = util.ComputeMask(mag[:, start:start+sep_len], unet_model=\"unet.model\", hard=False)\n",
    "            util.SaveAudio(\"../PHS_sep/vocal/seg_\"+str(i+1)+\"__%s\" % file, mag[:, start:start+sep_len]*mask, phase[:, start:start+sep_len])\n",
    "            util.SaveAudio(\"../PHS_sep/inst/seg_\"+str(i+1)+\"__%s\" % file, mag[:, start:start+sep_len]*(1-mask), phase[:,start:start+sep_len])\n",
    "            start = start + sep_len\n",
    "        except Exception as E:\n",
    "            print(file+\"__seg\"+str(i+1))\n",
    "            print(E)\n",
    "            continue"
   ]
  },
  {
   "cell_type": "code",
   "execution_count": 47,
   "metadata": {},
   "outputs": [],
   "source": [
    "data_dir = '/home/ncp/workspace/All_Preprocess/BS_data'\n",
    "files = list(filter(lambda x: os.path.splitext(x)[1] == \".wav\", os.listdir(data_dir)))"
   ]
  },
  {
   "cell_type": "code",
   "execution_count": 52,
   "metadata": {},
   "outputs": [],
   "source": [
    "vocal_dir = \"../BS_sep/vocal\"\n",
    "inst_dir = \"../BS_sep/inst\""
   ]
  },
  {
   "cell_type": "code",
   "execution_count": 54,
   "metadata": {},
   "outputs": [],
   "source": [
    "if not os.path.isdir(vocal_dir):\n",
    "    os.mkdir(vocal_dir)\n",
    "if not os.path.isdir(inst_dir):\n",
    "    os.mkdir(inst_dir)"
   ]
  },
  {
   "cell_type": "code",
   "execution_count": 56,
   "metadata": {},
   "outputs": [],
   "source": [
    "for file in files:\n",
    "    mag, phase = util.LoadAudio(data_dir+\"/\"+file)\n",
    "    song_len = len(mag[0])\n",
    "    sep_len = 960 # about 30 sec\n",
    "    seg = song_len // sep_len\n",
    "    start = int((song_len % sep_len)/2)\n",
    "    for i in range (seg):\n",
    "        try:\n",
    "            mask = util.ComputeMask(mag[:, start:start+sep_len], unet_model=\"unet.model\", hard=False)\n",
    "            util.SaveAudio(vocal_dir+\"/seg_\"+str(i+1)+\"__%s\" % file, mag[:, start:start+sep_len]*mask, phase[:, start:start+sep_len])\n",
    "            util.SaveAudio(inst_dir+\"/seg_\"+str(i+1)+\"__%s\" % file, mag[:, start:start+sep_len]*(1-mask), phase[:,start:start+sep_len])\n",
    "            start = start + sep_len\n",
    "        except Exception as E:\n",
    "            print(file+\"__seg\"+str(i+1))\n",
    "            print(E)\n",
    "            continue"
   ]
  },
  {
   "cell_type": "code",
   "execution_count": null,
   "metadata": {},
   "outputs": [],
   "source": []
  }
 ],
 "metadata": {
  "kernelspec": {
   "display_name": "Python 3",
   "language": "python",
   "name": "python3"
  },
  "language_info": {
   "codemirror_mode": {
    "name": "ipython",
    "version": 3
   },
   "file_extension": ".py",
   "mimetype": "text/x-python",
   "name": "python",
   "nbconvert_exporter": "python",
   "pygments_lexer": "ipython3",
   "version": "3.6.5"
  }
 },
 "nbformat": 4,
 "nbformat_minor": 2
}
